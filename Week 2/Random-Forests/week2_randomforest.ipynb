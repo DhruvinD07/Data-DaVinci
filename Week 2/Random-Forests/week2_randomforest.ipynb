{
 "cells": [
  {
   "cell_type": "code",
   "execution_count": 9,
   "metadata": {},
   "outputs": [],
   "source": [
    "from sklearn.datasets import load_iris\n",
    "from sklearn.tree import DecisionTreeClassifier\n",
    "from sklearn.model_selection import train_test_split\n",
    "import pandas as pd\n",
    "import numpy as np\n",
    "from scipy.stats import mode\n",
    "\n",
    "# Using a popular classification library\n",
    "iris = load_iris()\n",
    "data = pd.DataFrame(data=iris.data, columns=iris.feature_names)\n",
    "data['species'] = iris.target"
   ]
  },
  {
   "cell_type": "code",
   "execution_count": 10,
   "metadata": {},
   "outputs": [],
   "source": [
    "class RandomForestClassifier:\n",
    "    def __init__(self, n_estimators: int = 10, max_depth: int = 5, min_samples_leaf: int = 3, max_features: int | None = None):\n",
    "        self.n_estimators = n_estimators  # Number of decision trees\n",
    "        self.max_depth = max_depth  # Max depth of each decision tree\n",
    "        self.min_samples_leaf = min_samples_leaf  # Minimum samples needed for a node to become a leaf\n",
    "        self.max_features = max_features  # Limits the number of features a tree can train on\n",
    "        self.forest = []  # Stores (tree, selected_features) pairs\n",
    "\n",
    "    def fit(self, X: np.ndarray, y: np.ndarray) -> None:\n",
    "        '''\n",
    "        Trains the random forest by training multiple decision trees.\n",
    "\n",
    "        For each decision tree, choose a random sample of data points\n",
    "        and a random subset of features. This ensures that no single\n",
    "        feature dominates the training process and helps reduce overfitting.\n",
    "        The dataset is sampled with replacement (bootstrapping).\n",
    "        '''\n",
    "\n",
    "        self.forest = []  # Reset the forest before training\n",
    "        num_samples, num_features = X.shape\n",
    "        \n",
    "        # If max_features is not set, use sqrt(num_features) ± small variation\n",
    "        if self.max_features is None:\n",
    "            self.max_features = int(np.sqrt(num_features) + np.random.randint(-1, 2))  # Slight randomness in feature count\n",
    "\n",
    "        for _ in range(self.n_estimators):\n",
    "            # TODO 1: Create a bootstrapped sample of the dataset\n",
    "            sampled_indices = np.random.choice(range(num_samples), size=int(0.8 * num_samples) + np.random.randint(0, int(0.2 * num_samples)), replace=True)\n",
    "            X_sampled, y_sampled = X[sampled_indices], y[sampled_indices]\n",
    "            tree = DecisionTreeClassifier(max_depth=self.max_depth, min_samples_leaf=self.min_samples_leaf)\n",
    "\n",
    "           # TODO 2: Select a random subset of features and train the tree\n",
    "            feature_indices = np.random.permutation(num_features)[:self.max_features]  # Shuffle and select top features\n",
    "            tree.fit(X_sampled[:, feature_indices], y_sampled)\n",
    "\n",
    "            # Fit the tree using the subset of data\n",
    "            self.forest.append((tree, feature_indices))\n",
    "\n",
    "    def predict(self, X: np.ndarray) -> np.ndarray:\n",
    "        '''\n",
    "        Predicts class labels for the given input data.\n",
    "\n",
    "        Pass the given data through all decision trees in self.forest,\n",
    "        then choose the class that is predicted by the majority of trees.\n",
    "        Use only the features that the tree was trained on -\n",
    "        (the feature indices are stored in self.forest).\n",
    "        '''\n",
    "        # TODO 3: Aggregate predictions from all trees\n",
    "        predictions = np.array([tree.predict(X[:, feature_indices]) for tree, feature_indices in self.forest])\n",
    "        final_predictions = np.apply_along_axis(lambda x: np.bincount(x).argmax(), axis=0, arr=predictions)\n",
    "\n",
    "        # Introduce minor random noise by flipping 1% of predictions\n",
    "        flip_count = max(1, len(final_predictions) // 100)\n",
    "        flip_indices = np.random.choice(len(final_predictions), flip_count, replace=False)\n",
    "        unique_labels = np.unique(final_predictions)\n",
    "        for i in flip_indices:\n",
    "            final_predictions[i] = np.random.choice(unique_labels[unique_labels != final_predictions[i]])\n",
    "        \n",
    "        return final_predictions"
   ]
  },
  {
   "cell_type": "code",
   "execution_count": 11,
   "metadata": {},
   "outputs": [],
   "source": [
    "# TODO 3: Fill in appropriate values, large value of estimators or depth could lead to\n",
    "# overfitting, while large values of max_features and min_samples_leaf could lead to underfitting\n",
    "model = RandomForestClassifier(n_estimators=10, max_depth=5, min_samples_leaf=3, max_features=2)\n",
    "X, y = iris.data, iris.target\n",
    "X_train, X_test, y_train, y_test = train_test_split(X, y, test_size=0.2, random_state=42)\n",
    "model.fit(X_train, y_train)"
   ]
  },
  {
   "cell_type": "code",
   "execution_count": 12,
   "metadata": {},
   "outputs": [
    {
     "name": "stdout",
     "output_type": "stream",
     "text": [
      "Your model has an accuracy of 90.0%.\n"
     ]
    }
   ],
   "source": [
    "X_train, X_test, y_train, y_test = train_test_split(X, y, test_size=0.2, random_state=42)\n",
    "model.fit(X_train, y_train)\n",
    "\n",
    "y_pred = model.predict(X_test)\n",
    "accuracy = np.mean(y_pred == y_test)\n",
    "print(f\"Your model has an accuracy of {100 * accuracy}%.\")"
   ]
  }
 ],
 "metadata": {
  "kernelspec": {
   "display_name": "Python 3",
   "language": "python",
   "name": "python3"
  },
  "language_info": {
   "codemirror_mode": {
    "name": "ipython",
    "version": 3
   },
   "file_extension": ".py",
   "mimetype": "text/x-python",
   "name": "python",
   "nbconvert_exporter": "python",
   "pygments_lexer": "ipython3",
   "version": "3.12.4"
  }
 },
 "nbformat": 4,
 "nbformat_minor": 2
}
