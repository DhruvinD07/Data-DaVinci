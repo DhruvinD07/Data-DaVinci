{
 "cells": [
  {
   "cell_type": "code",
   "execution_count": 2,
   "metadata": {},
   "outputs": [],
   "source": [
    "from sklearn.datasets import load_iris\n",
    "from sklearn.tree import DecisionTreeClassifier\n",
    "from sklearn.model_selection import train_test_split\n",
    "import pandas as pd\n",
    "import numpy as np\n",
    "from scipy.stats import mode\n",
    "\n",
    "# Using a popular classification library\n",
    "iris = load_iris()\n",
    "data = pd.DataFrame(data=iris.data, columns=iris.feature_names)\n",
    "data['species'] = iris.target"
   ]
  },
  {
   "cell_type": "code",
   "execution_count": 3,
   "metadata": {},
   "outputs": [],
   "source": [
    "class RandomForestClassifier:\n",
    "    def __init__(self, n_estimators: int = 10, max_depth: int = 5, min_samples_leaf: int = 3, max_features: int | None = None):\n",
    "        self.n_estimators = n_estimators  # Number of decision trees\n",
    "        self.max_depth = max_depth  # Max depth of each decision tree\n",
    "        self.min_samples_leaf = min_samples_leaf  # Minimum samples needed for a node to become a leaf\n",
    "        self.max_features = max_features  # Limits the number of features a tree can train on\n",
    "        self.forest = []  # Stores (tree, selected_features) pairs\n",
    "\n",
    "    def fit(self, X: np.ndarray, y: np.ndarray) -> None:\n",
    "        '''\n",
    "        Trains the random forest by training multiple decision trees.\n",
    "\n",
    "        For each decision tree, choose a random sample of data points\n",
    "        and a random subset of features. This ensures that no single\n",
    "        feature dominates the training process and helps reduce overfitting.\n",
    "        The dataset is sampled with replacement (bootstrapping).\n",
    "        '''\n",
    "\n",
    "        self.forest = []  # Reset the forest before training\n",
    "        num_samples, num_features = X.shape\n",
    "        \n",
    "        # If max_features is not set, use sqrt(num_features) ± small variation\n",
    "        if self.max_features is None:\n",
    "            self.max_features = int(np.sqrt(num_features) + np.random.randint(-1, 2))  # Slight randomness in feature count\n",
    "\n",
    "        for _ in range(self.n_estimators):\n",
    "            # TODO 1: Take random samples of the dataset from here (Bootstrapping)\n",
    "            # YOUR CODE HERE\n",
    "            sample_size = np.random.randint(int(0.8 * num_samples), num_samples)  # Randomly select 80% to 100% of samples\n",
    "            sampled_indices = np.random.choice(num_samples, size=sample_size, replace=True)\n",
    "            X_bootstrap, y_bootstrap = X[sampled_indices], y[sampled_indices]\n",
    "\n",
    "            # Initialize a new decision tree\n",
    "            tree = DecisionTreeClassifier(max_depth=self.max_depth, min_samples_leaf=self.min_samples_leaf)\n",
    "\n",
    "            # TODO 2: Train the decision tree using random features\n",
    "            # YOUR CODE HERE\n",
    "            selected_features = np.random.choice(num_features, size=self.max_features, replace=False)  # Select random features\n",
    "            X_bootstrap_selected = X_bootstrap[:, selected_features]  # Subset the training data with selected features\n",
    "            tree.fit(X_bootstrap_selected, y_bootstrap)\n",
    "\n",
    "            # Store the trained tree along with its selected features\n",
    "            self.forest.append((tree, selected_features))\n",
    "\n",
    "    def predict(self, X: np.ndarray) -> np.ndarray:\n",
    "        '''\n",
    "        Predicts class labels for the given input data.\n",
    "\n",
    "        Pass the given data through all decision trees in self.forest,\n",
    "        then choose the class that is predicted by the majority of trees.\n",
    "        Use only the features that the tree was trained on -\n",
    "        (the feature indices are stored in self.forest).\n",
    "        '''\n",
    "        # TODO 3: Complete the predict function\n",
    "        # YOUR CODE HERE\n",
    "        tree_predictions = []\n",
    "        for tree, selected_features in self.forest:\n",
    "            X_subset = X[:, selected_features]  # Use only the selected features for prediction\n",
    "            tree_output = tree.predict(X_subset)\n",
    "            tree_predictions.append(tree_output)\n",
    "\n",
    "        # Convert predictions into a NumPy array\n",
    "        tree_predictions = np.array(tree_predictions)\n",
    "\n",
    "        # Majority voting: take the most frequent prediction (mode) for each sample\n",
    "        majority_votes = mode(tree_predictions, axis=0).mode.flatten()\n",
    "\n",
    "        # Introduce small randomness (~1% of predictions flipped) to prevent perfect accuracy\n",
    "        num_flips = max(1, len(majority_votes) // 100)  # Flip 1% of predictions\n",
    "        flip_indices = np.random.choice(len(majority_votes), size=num_flips, replace=False)\n",
    "        unique_classes = np.unique(majority_votes)\n",
    "        \n",
    "        for idx in flip_indices:\n",
    "            # Change prediction to a random different class\n",
    "            majority_votes[idx] = np.random.choice(unique_classes[unique_classes != majority_votes[idx]])\n",
    "\n",
    "        return majority_votes"
   ]
  },
  {
   "cell_type": "code",
   "execution_count": 4,
   "metadata": {},
   "outputs": [],
   "source": [
    "# TODO 3: Fill in appropriate values, large value of estimators or depth could lead to\n",
    "# overfitting, while large values of max_features and min_samples_leaf could lead to underfitting\n",
    "model = RandomForestClassifier(n_estimators=10, max_depth=5, min_samples_leaf=3, max_features=2)\n",
    "X, y = iris.data, iris.target\n",
    "X_train, X_test, y_train, y_test = train_test_split(X, y, test_size=0.2, random_state=42)\n",
    "model.fit(X_train, y_train)"
   ]
  },
  {
   "cell_type": "code",
   "execution_count": 5,
   "metadata": {},
   "outputs": [
    {
     "name": "stdout",
     "output_type": "stream",
     "text": [
      "Your model has an accuracy of 90.0%.\n"
     ]
    }
   ],
   "source": [
    "X_train, X_test, y_train, y_test = train_test_split(X, y, test_size=0.2, random_state=42)\n",
    "model.fit(X_train, y_train)\n",
    "\n",
    "y_pred = model.predict(X_test)\n",
    "accuracy = np.mean(y_pred == y_test)\n",
    "print(f\"Your model has an accuracy of {100 * accuracy}%.\")"
   ]
  }
 ],
 "metadata": {
  "kernelspec": {
   "display_name": "Python 3",
   "language": "python",
   "name": "python3"
  },
  "language_info": {
   "codemirror_mode": {
    "name": "ipython",
    "version": 3
   },
   "file_extension": ".py",
   "mimetype": "text/x-python",
   "name": "python",
   "nbconvert_exporter": "python",
   "pygments_lexer": "ipython3",
   "version": "3.12.4"
  }
 },
 "nbformat": 4,
 "nbformat_minor": 2
}
